{
 "cells": [
  {
   "cell_type": "code",
   "execution_count": 3,
   "metadata": {},
   "outputs": [],
   "source": [
    "#Importing Required Libraries\n",
    "import torch\n",
    "from torch import nn\n",
    "from torch import optim\n",
    "from torchvision.transforms import transforms\n",
    "import numpy as np\n",
    "from PIL import Image\n",
    "import matplotlib.pyplot as plt\n",
    "\n",
    "from tqdm.notebook import tqdm\n",
    "import warnings\n",
    "warnings.filterwarnings(\"ignore\")"
   ]
  },
  {
   "cell_type": "code",
   "execution_count": 4,
   "metadata": {},
   "outputs": [
    {
     "name": "stdout",
     "output_type": "stream",
     "text": [
      "torch.Size([3, 32, 32])\n"
     ]
    },
    {
     "data": {
      "image/png": "[encoded data removed]",
      "text/plain": [
       "<Figure size 432x288 with 1 Axes>"
      ]
     },
     "metadata": {
      "needs_background": "light"
     },
     "output_type": "display_data"
    }
   ],
   "source": [
    "#Loading images and pre-processing it\n",
    "transform = transforms.Compose([\n",
    "    transforms.Resize((32, 32)),\n",
    "    transforms.ToTensor()\n",
    "])\n",
    "\n",
    "flat_img = 3072 #32 * 32 * 2 -- flattened image size with 3 color channels.\n",
    "\n",
    "img = Image.open('truck.jpeg')\n",
    "real_img = transform(img)\n",
    "\n",
    "torch.manual_seed(69)\n",
    "fake_img = torch.rand(1, 100)\n",
    "\n",
    "plt.imshow(np.transpose(real_img.numpy(), (1, 2, 0)))\n",
    "print(real_img.size())"
   ]
  },
  {
   "cell_type": "code",
   "execution_count": 5,
   "metadata": {},
   "outputs": [],
   "source": [
    "#Creating  Discriminator Model\n",
    "\n",
    "class Discriminator(nn.Module):\n",
    "  def __init__(self):\n",
    "    super().__init__()\n",
    "    self.linear = nn.Sequential(\n",
    "        nn.Linear(flat_img, 10000),\n",
    "        nn.ReLU(),\n",
    "        nn.Linear(10000, 1),\n",
    "        nn.Sigmoid()\n",
    "    )\n",
    "\n",
    "  def forward(self, img):\n",
    "    img = img.view(1, -1)\n",
    "    out = self.linear(img)\n",
    "\n",
    "    return out"
   ]
  },
  {
   "cell_type": "code",
   "execution_count": 6,
   "metadata": {},
   "outputs": [],
   "source": [
    "#Creating Generator Model\n",
    "\n",
    "class Generator(nn.Module):\n",
    "  def __init__(self):\n",
    "    super().__init__()\n",
    "    self.linear = nn.Sequential(\n",
    "        nn.Linear(100, 10000),\n",
    "        nn.LeakyReLU(),\n",
    "        nn.Linear(10000, 4000),\n",
    "        nn.LeakyReLU(),\n",
    "        nn.Linear(4000, flat_img)\n",
    "    )\n",
    "\n",
    "  def forward(self, latent_space):\n",
    "    latent_space = latent_space.view(1, -1)\n",
    "    out = self.linear(latent_space)\n",
    "\n",
    "    return out"
   ]
  },
  {
   "cell_type": "code",
   "execution_count": 7,
   "metadata": {},
   "outputs": [],
   "source": [
    "#Initializing the Models. Note: The code includes the option to run on either GPU or CPU.\n",
    "\n",
    "device = 'cuda:0' if torch.cuda.is_available() else 'cpu'\n",
    "\n",
    "discr = Discriminator().to(device)\n",
    "gen = Generator().to(device)\n",
    "\n",
    "opt_d = optim.SGD(discr.parameters(), lr=0.001, momentum=0.9)\n",
    "opt_g = optim.SGD(gen.parameters(), lr=0.001, momentum=0.9)\n",
    "\n",
    "criterion = nn.BCELoss()"
   ]
  },
  {
   "cell_type": "code",
   "execution_count": 8,
   "metadata": {},
   "outputs": [
    {
     "data": {
      "application/vnd.jupyter.widget-view+json": {
       "model_id": "293b98fd82ca4b1181c16374ef37e2be",
       "version_major": 2,
       "version_minor": 0
      },
      "text/plain": [
       "  0%|          | 0/500 [00:00<?, ?it/s]"
      ]
     },
     "metadata": {},
     "output_type": "display_data"
    }
   ],
   "source": [
    "#Training Loop\n",
    "epochs = 500\n",
    "discr_e = 4\n",
    "gen_e = 3\n",
    "\n",
    "for ep in tqdm(range(epochs), total = epochs):\n",
    "\n",
    "    #Training the Discriminator Model\n",
    "    for i in range(discr_e):\n",
    "        opt_d.zero_grad()\n",
    "\n",
    "        out_d1 = discr(real_img.to(device))\n",
    "\n",
    "        #Calculating Loss for Real Image\n",
    "        loss_d1 = criterion(out_d1, torch.ones((1, 1)).to(device))\n",
    "        loss_d1.backward()\n",
    "\n",
    "        out_d2 = gen(fake_img.to(device)).detach()\n",
    "\n",
    "        #Calculating Loss for Fake Image\n",
    "        loss_d2 = criterion(discr(out_d2.to(device)), torch.zeros((1, 1)).to(device))\n",
    "        loss_d2.backward()\n",
    "\n",
    "        opt_d.step()\n",
    "\n",
    "    #Training the Generator Model\n",
    "    for i in range(gen_e):\n",
    "        opt_g.zero_grad()\n",
    "\n",
    "        out_g = gen(fake_img.to(device))\n",
    "\n",
    "        #Binary Cross Entropy Loss\n",
    "        loss_g = torch.log(1.0 - (discr(out_g.to(device))))\n",
    "        loss_g.backward()\n",
    "\n",
    "        opt_g.step()\n"
   ]
  },
  {
   "cell_type": "code",
   "execution_count": 10,
   "metadata": {},
   "outputs": [
    {
     "name": "stderr",
     "output_type": "stream",
     "text": [
      "Clipping input data to the valid range for imshow with RGB data ([0..1] for floats or [0..255] for integers).\n"
     ]
    },
    {
     "data": {
      "image/png": "[encoded data removed]",
      "text/plain": [
       "<Figure size 576x576 with 2 Axes>"
      ]
     },
     "metadata": {},
     "output_type": "display_data"
    }
   ],
   "source": [
    "#Comparing the results\n",
    "plt.figure(figsize=(8, 8))\n",
    "\n",
    "plt.subplot(1, 2, 1)\n",
    "plt.title(\"Generated Image\")\n",
    "plt.xticks([])\n",
    "plt.yticks([])\n",
    "plt.imshow(np.transpose(out_g.resize(3, 32, 32).cpu().detach().numpy(), (1, 2, 0)))\n",
    "\n",
    "plt.subplot(1, 2, 2)\n",
    "plt.title(\"Original Image\")\n",
    "plt.xticks([])\n",
    "plt.yticks([])\n",
    "plt.imshow(np.transpose(real_img.numpy(), (1, 2, 0)))\n",
    "plt.show()"
   ]
  }
 ],
 "metadata": {
  "interpreter": {
   "hash": "cf27035b7dc97182e329f4f3264e74024bcb2370fef5d6f059b9761c10d841e0"
  },
  "kernelspec": {
   "display_name": "Python 3.8.12 ('pytorch')",
   "language": "python",
   "name": "python3"
  },
  "language_info": {
   "codemirror_mode": {
    "name": "ipython",
    "version": 3
   },
   "file_extension": ".py",
   "mimetype": "text/x-python",
   "name": "python",
   "nbconvert_exporter": "python",
   "pygments_lexer": "ipython3",
   "version": "3.8.12"
  },
  "orig_nbformat": 4
 },
 "nbformat": 4,
 "nbformat_minor": 2
}
